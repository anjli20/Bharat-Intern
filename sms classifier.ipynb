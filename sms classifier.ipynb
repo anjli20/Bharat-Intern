{
 "cells": [
  {
   "cell_type": "markdown",
   "id": "684d80b5",
   "metadata": {},
   "source": [
    "### SMS Classifier"
   ]
  },
  {
   "cell_type": "markdown",
   "id": "cde2b289",
   "metadata": {},
   "source": [
    "To develop a text classification model to classify SMS as either spam or non-spam using data science techniques in Python."
   ]
  },
  {
   "cell_type": "code",
   "execution_count": 1,
   "id": "2cd07256",
   "metadata": {},
   "outputs": [],
   "source": [
    "# Import necessary libraries and suppress warnings\n",
    "import warnings\n",
    "warnings.filterwarnings('ignore')  # Ignore warnings"
   ]
  },
  {
   "cell_type": "code",
   "execution_count": 2,
   "id": "26b880b4",
   "metadata": {},
   "outputs": [],
   "source": [
    "# Import data manipulation and visualization libraries\n",
    "import numpy as np\n",
    "import pandas as pd\n",
    "import seaborn as sns\n",
    "import matplotlib.pyplot as plt"
   ]
  },
  {
   "cell_type": "code",
   "execution_count": 3,
   "id": "51b34c88",
   "metadata": {},
   "outputs": [],
   "source": [
    "# Import text processing and machine learning libraries\n",
    "from sklearn.feature_extraction.text import CountVectorizer, TfidfVectorizer\n",
    "from sklearn.naive_bayes import MultinomialNB\n",
    "from sklearn.metrics import accuracy_score, precision_score, recall_score, f1_score, confusion_matrix\n",
    "from sklearn.preprocessing import LabelEncoder\n",
    "from sklearn.model_selection import train_test_split"
   ]
  },
  {
   "cell_type": "code",
   "execution_count": 4,
   "id": "12e94c70",
   "metadata": {},
   "outputs": [],
   "source": [
    "# Import NLTK libraries for text preprocessing\n",
    "import nltk\n",
    "from nltk.corpus import stopwords\n",
    "from nltk.stem import PorterStemmer\n",
    "import re"
   ]
  },
  {
   "cell_type": "code",
   "execution_count": 5,
   "id": "0e7f0568",
   "metadata": {},
   "outputs": [],
   "source": [
    "# Load and preprocess the dataset\n",
    "data = pd.read_csv('spam.csv', encoding='latin1')  # Load dataset\n",
    "data = data.iloc[:, :2]  # Retain only the first two columns\n",
    "data.columns = ['label', 'message']  # Rename columns for clarity"
   ]
  },
  {
   "cell_type": "code",
   "execution_count": 6,
   "id": "1d3641d4",
   "metadata": {},
   "outputs": [],
   "source": [
    "# Encode labels as numbers (ham: 0, spam: 1)\n",
    "label_encoder = LabelEncoder()\n",
    "data['label_num'] = label_encoder.fit_transform(data['label'])"
   ]
  },
  {
   "cell_type": "code",
   "execution_count": 7,
   "id": "55f7a5d8",
   "metadata": {},
   "outputs": [],
   "source": [
    "# Remove duplicate messages\n",
    "data.drop_duplicates(subset='message', keep='first', inplace=True)"
   ]
  },
  {
   "cell_type": "code",
   "execution_count": 8,
   "id": "d2f7a717",
   "metadata": {},
   "outputs": [
    {
     "name": "stderr",
     "output_type": "stream",
     "text": [
      "[nltk_data] Downloading package stopwords to\n",
      "[nltk_data]     C:\\Users\\intel\\AppData\\Roaming\\nltk_data...\n",
      "[nltk_data]   Package stopwords is already up-to-date!\n"
     ]
    }
   ],
   "source": [
    "# Download and configure NLTK stopwords\n",
    "nltk.download('stopwords')\n",
    "stop_words = set(stopwords.words('english'))  # Load stopwords\n",
    "stemmer = PorterStemmer()  # Initialize stemmer"
   ]
  },
  {
   "cell_type": "code",
   "execution_count": 9,
   "id": "db048868",
   "metadata": {},
   "outputs": [],
   "source": [
    "# Function to clean text data\n",
    "def preprocess_text(text):\n",
    "    text = re.sub(r'[^\\w\\s]', '', text)  # Remove punctuation\n",
    "    text = text.lower()  # Convert to lowercase\n",
    "    words = text.split()  # Split into words\n",
    "    words = [stemmer.stem(word) for word in words if word not in stop_words]  # Remove stopwords and stem words\n",
    "    return ' '.join(words)"
   ]
  },
  {
   "cell_type": "code",
   "execution_count": 10,
   "id": "1ef1a303",
   "metadata": {},
   "outputs": [],
   "source": [
    "# Apply preprocessing to the message column\n",
    "data['cleaned_message'] = data['message'].apply(preprocess_text)"
   ]
  },
  {
   "cell_type": "code",
   "execution_count": 11,
   "id": "26f80c9d",
   "metadata": {},
   "outputs": [],
   "source": [
    "# Initialize vectorizers\n",
    "count_vectorizer = CountVectorizer()  # Count Vectorizer\n",
    "tfidf_vectorizer = TfidfVectorizer()  # TFIDF Vectorizer"
   ]
  },
  {
   "cell_type": "code",
   "execution_count": 12,
   "id": "bba4f1ec",
   "metadata": {},
   "outputs": [],
   "source": [
    "# Transform text data into feature vectors\n",
    "X_count = count_vectorizer.fit_transform(data['cleaned_message'])  # Count Vectorizer\n",
    "X_tfidf = tfidf_vectorizer.fit_transform(data['cleaned_message'])  # TFIDF Vectorizer\n",
    "y = data['label_num'].values  # Target variable"
   ]
  },
  {
   "cell_type": "code",
   "execution_count": 13,
   "id": "62682110",
   "metadata": {},
   "outputs": [],
   "source": [
    "# Split the data into training and testing sets\n",
    "X_train_count, X_test_count, y_train, y_test = train_test_split(X_count, y, test_size=0.2, random_state=101)\n",
    "X_train_tfidf, X_test_tfidf, y_train, y_test = train_test_split(X_tfidf, y, test_size=0.2, random_state=101)"
   ]
  },
  {
   "cell_type": "code",
   "execution_count": 14,
   "id": "967afc3f",
   "metadata": {},
   "outputs": [],
   "source": [
    "# Train and evaluate a Multinomial Naive Bayes classifier using Count Vectorizer\n",
    "model_count = MultinomialNB()  # Initialize model\n",
    "model_count.fit(X_train_count, y_train)  # Train model\n",
    "y_pred_count = model_count.predict(X_test_count)  # Predict on test data"
   ]
  },
  {
   "cell_type": "code",
   "execution_count": 15,
   "id": "aed2558a",
   "metadata": {},
   "outputs": [],
   "source": [
    "# Calculate performance metrics for Count Vectorizer\n",
    "accuracy_count = accuracy_score(y_test, y_pred_count)\n",
    "precision_count = precision_score(y_test, y_pred_count, average='weighted')\n",
    "recall_count = recall_score(y_test, y_pred_count, average='weighted')\n",
    "f1_count = f1_score(y_test, y_pred_count, average='weighted')"
   ]
  },
  {
   "cell_type": "code",
   "execution_count": 16,
   "id": "071707e4",
   "metadata": {},
   "outputs": [
    {
     "name": "stdout",
     "output_type": "stream",
     "text": [
      "Count Vectorizer Results\n",
      "Accuracy: 0.9777562862669246\n",
      "Precision: 0.9781709636161691\n",
      "Recall: 0.9777562862669246\n",
      "F1 Score: 0.9779188232099039\n"
     ]
    }
   ],
   "source": [
    "# Print performance metrics for Count Vectorizer\n",
    "print(\"Count Vectorizer Results\")\n",
    "print(\"Accuracy:\", accuracy_count)\n",
    "print(\"Precision:\", precision_count)\n",
    "print(\"Recall:\", recall_count)\n",
    "print(\"F1 Score:\", f1_count)"
   ]
  },
  {
   "cell_type": "code",
   "execution_count": 17,
   "id": "aa7a4ba3",
   "metadata": {},
   "outputs": [
    {
     "data": {
      "image/png": "[encoded data removed]",
      "text/plain": [
       "<Figure size 1000x600 with 2 Axes>"
      ]
     },
     "metadata": {},
     "output_type": "display_data"
    }
   ],
   "source": [
    "# Generate and plot the confusion matrix for Count Vectorizer\n",
    "cm_count = confusion_matrix(y_test, y_pred_count)  # Confusion matrix\n",
    "plt.figure(figsize=(10, 6))  # Set figure size\n",
    "sns.heatmap(cm_count, annot=True, fmt='d', cmap='Blues')  # Plot heatmap\n",
    "plt.xlabel('Predicted')  # X-axis label\n",
    "plt.ylabel('Actual')  # Y-axis label\n",
    "plt.title('Confusion Matrix (Count Vectorizer)')  # Plot title\n",
    "plt.show()  # Display plot"
   ]
  },
  {
   "cell_type": "code",
   "execution_count": 18,
   "id": "52f7f5cc",
   "metadata": {},
   "outputs": [],
   "source": [
    "# Train and evaluate a Multinomial Naive Bayes classifier using TFIDF Vectorizer\n",
    "model_tfidf = MultinomialNB()  # Initialize model\n",
    "model_tfidf.fit(X_train_tfidf, y_train)  # Train model\n",
    "y_pred_tfidf = model_tfidf.predict(X_test_tfidf)  # Predict on test data"
   ]
  },
  {
   "cell_type": "code",
   "execution_count": 19,
   "id": "6b7961bf",
   "metadata": {},
   "outputs": [],
   "source": [
    "# Calculate performance metrics for TFIDF Vectorizer\n",
    "accuracy_tfidf = accuracy_score(y_test, y_pred_tfidf)\n",
    "precision_tfidf = precision_score(y_test, y_pred_tfidf, average='weighted')\n",
    "recall_tfidf = recall_score(y_test, y_pred_tfidf, average='weighted')\n",
    "f1_tfidf = f1_score(y_test, y_pred_tfidf, average='weighted')"
   ]
  },
  {
   "cell_type": "code",
   "execution_count": 20,
   "id": "84dbba2f",
   "metadata": {},
   "outputs": [
    {
     "name": "stdout",
     "output_type": "stream",
     "text": [
      "TFIDF Vectorizer Results\n",
      "Accuracy: 0.9506769825918762\n",
      "Precision: 0.9533416795069337\n",
      "Recall: 0.9506769825918762\n",
      "F1 Score: 0.9459169029120036\n"
     ]
    }
   ],
   "source": [
    "# Print performance metrics for TFIDF Vectorizer\n",
    "print(\"TFIDF Vectorizer Results\")\n",
    "print(\"Accuracy:\", accuracy_tfidf)\n",
    "print(\"Precision:\", precision_tfidf)\n",
    "print(\"Recall:\", recall_tfidf)\n",
    "print(\"F1 Score:\", f1_tfidf)"
   ]
  },
  {
   "cell_type": "code",
   "execution_count": 21,
   "id": "21fa1b30",
   "metadata": {},
   "outputs": [
    {
     "data": {
      "image/png": "[encoded data removed]",
      "text/plain": [
       "<Figure size 1000x600 with 2 Axes>"
      ]
     },
     "metadata": {},
     "output_type": "display_data"
    }
   ],
   "source": [
    "# Generate and plot the confusion matrix for TFIDF Vectorizer\n",
    "cm_tfidf = confusion_matrix(y_test, y_pred_tfidf)  # Confusion matrix\n",
    "plt.figure(figsize=(10, 6))  # Set figure size\n",
    "sns.heatmap(cm_tfidf, annot=True, fmt='d', cmap='Blues')  # Plot heatmap\n",
    "plt.xlabel('Predicted')  # X-axis label\n",
    "plt.ylabel('Actual')  # Y-axis label\n",
    "plt.title('Confusion Matrix (TFIDF Vectorizer)')  # Plot title\n",
    "plt.show()  # Display plot"
   ]
  }
 ],
 "metadata": {
  "kernelspec": {
   "display_name": "Python 3 (ipykernel)",
   "language": "python",
   "name": "python3"
  },
  "language_info": {
   "codemirror_mode": {
    "name": "ipython",
    "version": 3
   },
   "file_extension": ".py",
   "mimetype": "text/x-python",
   "name": "python",
   "nbconvert_exporter": "python",
   "pygments_lexer": "ipython3",
   "version": "3.11.5"
  }
 },
 "nbformat": 4,
 "nbformat_minor": 5
}
